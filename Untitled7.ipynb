{
 "cells": [
  {
   "cell_type": "code",
   "execution_count": 6,
   "metadata": {},
   "outputs": [],
   "source": [
    "# 2. Draw a Spirling Square with Pen color as 'Red'.\n",
    "\n",
    "# Spiraling Square\n",
    "import turtle as t\n",
    "a1 = t.Turtle()\n",
    "a1.pencolor(\"Red\")\n",
    "for i in range (50):\n",
    "    a1.forward(i * 20)\n",
    "    a1.right(90)\n",
    "t.done()"
   ]
  },
  {
   "cell_type": "code",
   "execution_count": 8,
   "metadata": {},
   "outputs": [
    {
     "name": "stdout",
     "output_type": "stream",
     "text": [
      "9\n",
      "7\n"
     ]
    }
   ],
   "source": [
    "## 3. Write a python programming to print the large digit from given number\n",
    "## Example:-\n",
    "## Test cases:- Input:- 195263 Output:- 9\n",
    "## Test cases:- Input:- 36372  Output:- 7\n",
    "\n",
    "def nolistcon(n):\n",
    "    li=[]\n",
    "    while n!=0:\n",
    "        r=n%10\n",
    "        li.append(r)\n",
    "        n=n//10\n",
    "    li.reverse()\n",
    "    li.sort()\n",
    "    return li[-1]\n",
    "print(nolistcon(195263))\n",
    "print(nolistcon(36372))"
   ]
  },
  {
   "cell_type": "code",
   "execution_count": 4,
   "metadata": {},
   "outputs": [
    {
     "name": "stdout",
     "output_type": "stream",
     "text": [
      "9\n",
      "9\n"
     ]
    }
   ],
   "source": [
    "## 4. Write a python programming to print the Palindrome count between two limits\n",
    "## Example:-\n",
    "## Test cases:- Input:- 1 10   Output:- 9\n",
    "## Test cases:- Input:- 11 100 Output:- 9 \n",
    "\n",
    "def ispalindrome(n):\n",
    "    rev = 0\n",
    "    buffer = n\n",
    "    while n!= 0:\n",
    "        r= n% 10\n",
    "        rev = rev * 10 + r\n",
    "        n = n//10\n",
    "    if rev == buffer:\n",
    "        return True\n",
    "    else:\n",
    "        return False\n",
    "    return\n",
    "def countpalindrome(lb,ub):\n",
    "    cnt=0\n",
    "    while lb!=ub:\n",
    "        # implement\n",
    "        if ispalindrome(lb) == True:\n",
    "            cnt= cnt + 1\n",
    "        lb = lb +1\n",
    "    return cnt\n",
    "print(countpalindrome(1,10))\n",
    "print(countpalindrome(11,100))"
   ]
  }
 ],
 "metadata": {
  "kernelspec": {
   "display_name": "Python 3",
   "language": "python",
   "name": "python3"
  },
  "language_info": {
   "codemirror_mode": {
    "name": "ipython",
    "version": 3
   },
   "file_extension": ".py",
   "mimetype": "text/x-python",
   "name": "python",
   "nbconvert_exporter": "python",
   "pygments_lexer": "ipython3",
   "version": "3.7.3"
  }
 },
 "nbformat": 4,
 "nbformat_minor": 2
}
